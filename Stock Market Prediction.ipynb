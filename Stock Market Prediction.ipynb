{
 "cells": [
  {
   "cell_type": "markdown",
   "id": "d7a75df2",
   "metadata": {},
   "source": [
    "# Stock Market Analysis"
   ]
  },
  {
   "cell_type": "markdown",
   "id": "20184d67",
   "metadata": {},
   "source": [
    "## About the dataset\n",
    "\n",
    "The dataset can be found on: https://www.kaggle.com/datasets/mysarahmadbhat/stock-prices/data\n",
    "\n",
    "S&P 500 Stock Prices\n",
    "Historical stock market data for current S&P 500 companies, from 2014-2017. Each record represents a single day of trading, and includes the ticker name, volume, high, low, open and close prices.\n"
   ]
  },
  {
   "cell_type": "markdown",
   "id": "577f3839",
   "metadata": {},
   "source": [
    "## Importing necessary libraries"
   ]
  },
  {
   "cell_type": "code",
   "execution_count": 2,
   "id": "b56087f0",
   "metadata": {},
   "outputs": [],
   "source": [
    "import pandas as pd\n",
    "import numpy as np\n",
    "import matplotlib.pyplot as plt\n",
    "import seaborn as sns"
   ]
  },
  {
   "cell_type": "markdown",
   "id": "ec6cbd56",
   "metadata": {},
   "source": [
    "## Exploratory Data Analysis"
   ]
  },
  {
   "cell_type": "code",
   "execution_count": 3,
   "id": "b60dd6be",
   "metadata": {},
   "outputs": [],
   "source": [
    "# Loading the dataset \n",
    "stockdf = pd.read_csv(\"stock prices.csv\")"
   ]
  },
  {
   "cell_type": "code",
   "execution_count": 4,
   "id": "9f33c8f2",
   "metadata": {},
   "outputs": [
    {
     "data": {
      "text/html": [
       "<div>\n",
       "<style scoped>\n",
       "    .dataframe tbody tr th:only-of-type {\n",
       "        vertical-align: middle;\n",
       "    }\n",
       "\n",
       "    .dataframe tbody tr th {\n",
       "        vertical-align: top;\n",
       "    }\n",
       "\n",
       "    .dataframe thead th {\n",
       "        text-align: right;\n",
       "    }\n",
       "</style>\n",
       "<table border=\"1\" class=\"dataframe\">\n",
       "  <thead>\n",
       "    <tr style=\"text-align: right;\">\n",
       "      <th></th>\n",
       "      <th>symbol</th>\n",
       "      <th>date</th>\n",
       "      <th>open</th>\n",
       "      <th>high</th>\n",
       "      <th>low</th>\n",
       "      <th>close</th>\n",
       "      <th>volume</th>\n",
       "    </tr>\n",
       "  </thead>\n",
       "  <tbody>\n",
       "    <tr>\n",
       "      <th>0</th>\n",
       "      <td>AAL</td>\n",
       "      <td>2014-01-02</td>\n",
       "      <td>25.0700</td>\n",
       "      <td>25.8200</td>\n",
       "      <td>25.0600</td>\n",
       "      <td>25.3600</td>\n",
       "      <td>8998943</td>\n",
       "    </tr>\n",
       "    <tr>\n",
       "      <th>1</th>\n",
       "      <td>AAPL</td>\n",
       "      <td>2014-01-02</td>\n",
       "      <td>79.3828</td>\n",
       "      <td>79.5756</td>\n",
       "      <td>78.8601</td>\n",
       "      <td>79.0185</td>\n",
       "      <td>58791957</td>\n",
       "    </tr>\n",
       "    <tr>\n",
       "      <th>2</th>\n",
       "      <td>AAP</td>\n",
       "      <td>2014-01-02</td>\n",
       "      <td>110.3600</td>\n",
       "      <td>111.8800</td>\n",
       "      <td>109.2900</td>\n",
       "      <td>109.7400</td>\n",
       "      <td>542711</td>\n",
       "    </tr>\n",
       "    <tr>\n",
       "      <th>3</th>\n",
       "      <td>ABBV</td>\n",
       "      <td>2014-01-02</td>\n",
       "      <td>52.1200</td>\n",
       "      <td>52.3300</td>\n",
       "      <td>51.5200</td>\n",
       "      <td>51.9800</td>\n",
       "      <td>4569061</td>\n",
       "    </tr>\n",
       "    <tr>\n",
       "      <th>4</th>\n",
       "      <td>ABC</td>\n",
       "      <td>2014-01-02</td>\n",
       "      <td>70.1100</td>\n",
       "      <td>70.2300</td>\n",
       "      <td>69.4800</td>\n",
       "      <td>69.8900</td>\n",
       "      <td>1148391</td>\n",
       "    </tr>\n",
       "  </tbody>\n",
       "</table>\n",
       "</div>"
      ],
      "text/plain": [
       "  symbol        date      open      high       low     close    volume\n",
       "0    AAL  2014-01-02   25.0700   25.8200   25.0600   25.3600   8998943\n",
       "1   AAPL  2014-01-02   79.3828   79.5756   78.8601   79.0185  58791957\n",
       "2    AAP  2014-01-02  110.3600  111.8800  109.2900  109.7400    542711\n",
       "3   ABBV  2014-01-02   52.1200   52.3300   51.5200   51.9800   4569061\n",
       "4    ABC  2014-01-02   70.1100   70.2300   69.4800   69.8900   1148391"
      ]
     },
     "execution_count": 4,
     "metadata": {},
     "output_type": "execute_result"
    }
   ],
   "source": [
    "# Let's look at the head of the dataset to get a sense of the data\n",
    "stockdf.head(5)"
   ]
  },
  {
   "cell_type": "code",
   "execution_count": 5,
   "id": "d1ca23ba",
   "metadata": {},
   "outputs": [
    {
     "name": "stdout",
     "output_type": "stream",
     "text": [
      "(497472, 7)\n",
      "Index(['symbol', 'date', 'open', 'high', 'low', 'close', 'volume'], dtype='object')\n",
      "symbol     object\n",
      "date       object\n",
      "open      float64\n",
      "high      float64\n",
      "low       float64\n",
      "close     float64\n",
      "volume      int64\n",
      "dtype: object\n"
     ]
    }
   ],
   "source": [
    "# Now let's look at some of the structural attributes of the dataset\n",
    "\n",
    "print (stockdf.shape)   # rows and columns\n",
    "print (stockdf.columns) # column names\n",
    "print (stockdf.dtypes)  # data types of each column"
   ]
  },
  {
   "cell_type": "code",
   "execution_count": 6,
   "id": "76403f04",
   "metadata": {},
   "outputs": [
    {
     "data": {
      "text/html": [
       "<div>\n",
       "<style scoped>\n",
       "    .dataframe tbody tr th:only-of-type {\n",
       "        vertical-align: middle;\n",
       "    }\n",
       "\n",
       "    .dataframe tbody tr th {\n",
       "        vertical-align: top;\n",
       "    }\n",
       "\n",
       "    .dataframe thead th {\n",
       "        text-align: right;\n",
       "    }\n",
       "</style>\n",
       "<table border=\"1\" class=\"dataframe\">\n",
       "  <thead>\n",
       "    <tr style=\"text-align: right;\">\n",
       "      <th></th>\n",
       "      <th>open</th>\n",
       "      <th>high</th>\n",
       "      <th>low</th>\n",
       "      <th>close</th>\n",
       "      <th>volume</th>\n",
       "    </tr>\n",
       "  </thead>\n",
       "  <tbody>\n",
       "    <tr>\n",
       "      <th>count</th>\n",
       "      <td>497461.000000</td>\n",
       "      <td>497464.000000</td>\n",
       "      <td>497464.000000</td>\n",
       "      <td>497472.000000</td>\n",
       "      <td>4.974720e+05</td>\n",
       "    </tr>\n",
       "    <tr>\n",
       "      <th>mean</th>\n",
       "      <td>86.352275</td>\n",
       "      <td>87.132562</td>\n",
       "      <td>85.552467</td>\n",
       "      <td>86.369082</td>\n",
       "      <td>4.253611e+06</td>\n",
       "    </tr>\n",
       "    <tr>\n",
       "      <th>std</th>\n",
       "      <td>101.471228</td>\n",
       "      <td>102.312062</td>\n",
       "      <td>100.570957</td>\n",
       "      <td>101.472407</td>\n",
       "      <td>8.232139e+06</td>\n",
       "    </tr>\n",
       "    <tr>\n",
       "      <th>min</th>\n",
       "      <td>1.620000</td>\n",
       "      <td>1.690000</td>\n",
       "      <td>1.500000</td>\n",
       "      <td>1.590000</td>\n",
       "      <td>0.000000e+00</td>\n",
       "    </tr>\n",
       "    <tr>\n",
       "      <th>25%</th>\n",
       "      <td>41.690000</td>\n",
       "      <td>42.090000</td>\n",
       "      <td>41.280000</td>\n",
       "      <td>41.703750</td>\n",
       "      <td>1.080166e+06</td>\n",
       "    </tr>\n",
       "    <tr>\n",
       "      <th>50%</th>\n",
       "      <td>64.970000</td>\n",
       "      <td>65.560000</td>\n",
       "      <td>64.353700</td>\n",
       "      <td>64.980000</td>\n",
       "      <td>2.084896e+06</td>\n",
       "    </tr>\n",
       "    <tr>\n",
       "      <th>75%</th>\n",
       "      <td>98.410000</td>\n",
       "      <td>99.230000</td>\n",
       "      <td>97.580000</td>\n",
       "      <td>98.420000</td>\n",
       "      <td>4.271928e+06</td>\n",
       "    </tr>\n",
       "    <tr>\n",
       "      <th>max</th>\n",
       "      <td>2044.000000</td>\n",
       "      <td>2067.990000</td>\n",
       "      <td>2035.110000</td>\n",
       "      <td>2049.000000</td>\n",
       "      <td>6.182376e+08</td>\n",
       "    </tr>\n",
       "  </tbody>\n",
       "</table>\n",
       "</div>"
      ],
      "text/plain": [
       "                open           high            low          close  \\\n",
       "count  497461.000000  497464.000000  497464.000000  497472.000000   \n",
       "mean       86.352275      87.132562      85.552467      86.369082   \n",
       "std       101.471228     102.312062     100.570957     101.472407   \n",
       "min         1.620000       1.690000       1.500000       1.590000   \n",
       "25%        41.690000      42.090000      41.280000      41.703750   \n",
       "50%        64.970000      65.560000      64.353700      64.980000   \n",
       "75%        98.410000      99.230000      97.580000      98.420000   \n",
       "max      2044.000000    2067.990000    2035.110000    2049.000000   \n",
       "\n",
       "             volume  \n",
       "count  4.974720e+05  \n",
       "mean   4.253611e+06  \n",
       "std    8.232139e+06  \n",
       "min    0.000000e+00  \n",
       "25%    1.080166e+06  \n",
       "50%    2.084896e+06  \n",
       "75%    4.271928e+06  \n",
       "max    6.182376e+08  "
      ]
     },
     "execution_count": 6,
     "metadata": {},
     "output_type": "execute_result"
    }
   ],
   "source": [
    "# Now let's conduct some basic analysis omn the description of the dataset\n",
    "stockdf.describe()"
   ]
  },
  {
   "cell_type": "markdown",
   "id": "fd74314f",
   "metadata": {},
   "source": [
    "From this, we can interpret the following things: \n",
    "1. There are some null values present in the dataset. \n",
    "2. There are probably some outliers in the dataset. \n",
    "\n",
    "Let's combat these issues to avoid allow for an accurate prediction."
   ]
  },
  {
   "cell_type": "code",
   "execution_count": 7,
   "id": "01399e0b",
   "metadata": {},
   "outputs": [
    {
     "data": {
      "text/plain": [
       "symbol     0\n",
       "date       0\n",
       "open      11\n",
       "high       8\n",
       "low        8\n",
       "close      0\n",
       "volume     0\n",
       "dtype: int64"
      ]
     },
     "execution_count": 7,
     "metadata": {},
     "output_type": "execute_result"
    }
   ],
   "source": [
    "# Checking the null values\n",
    "stockdf.isnull().sum()"
   ]
  },
  {
   "cell_type": "markdown",
   "id": "2c360734",
   "metadata": {},
   "source": [
    "Since the number of null values in the dataset are very less as compared to the total number of rows present, I think it is okay to drop these rows that contain null values. "
   ]
  },
  {
   "cell_type": "code",
   "execution_count": 8,
   "id": "53926621",
   "metadata": {},
   "outputs": [],
   "source": [
    "# Removing all null values from the dataset\n",
    "stockdf.dropna(inplace=True)"
   ]
  },
  {
   "cell_type": "code",
   "execution_count": 9,
   "id": "7d288f79",
   "metadata": {},
   "outputs": [
    {
     "data": {
      "text/plain": [
       "symbol    0\n",
       "date      0\n",
       "open      0\n",
       "high      0\n",
       "low       0\n",
       "close     0\n",
       "volume    0\n",
       "dtype: int64"
      ]
     },
     "execution_count": 9,
     "metadata": {},
     "output_type": "execute_result"
    }
   ],
   "source": [
    "# Verifying that all null values have been deleted\n",
    "stockdf.isnull().sum()"
   ]
  },
  {
   "cell_type": "code",
   "execution_count": 10,
   "id": "3dbee07d",
   "metadata": {},
   "outputs": [
    {
     "data": {
      "image/png": "[encoded data removed]",
      "text/plain": [
       "<Figure size 640x480 with 1 Axes>"
      ]
     },
     "metadata": {},
     "output_type": "display_data"
    },
    {
     "data": {
      "image/png": "[encoded data removed]",
      "text/plain": [
       "<Figure size 640x480 with 1 Axes>"
      ]
     },
     "metadata": {},
     "output_type": "display_data"
    },
    {
     "data": {
      "image/png": "[encoded data removed]",
      "text/plain": [
       "<Figure size 640x480 with 1 Axes>"
      ]
     },
     "metadata": {},
     "output_type": "display_data"
    },
    {
     "data": {
      "image/png": "[encoded data removed]",
      "text/plain": [
       "<Figure size 640x480 with 1 Axes>"
      ]
     },
     "metadata": {},
     "output_type": "display_data"
    }
   ],
   "source": [
    "# To determine the outliers, we will have to create boxplots. \n",
    "# Boxplot for column \"Open\"\n",
    "stockdf.boxplot('open')\n",
    "plt.title('Boxplot of Stock Open Prices')\n",
    "plt.show()\n",
    "# Boxplot for column \"high\"\n",
    "stockdf.boxplot('high')\n",
    "plt.title('Boxplot of Stock High Prices')\n",
    "plt.show()\n",
    "# Boxplot for column \"low\"\n",
    "stockdf.boxplot('low')\n",
    "plt.title('Boxplot of Stock Low Prices')\n",
    "plt.show()\n",
    "# Boxplot for column \"close\"\n",
    "stockdf.boxplot('close')\n",
    "plt.title('Boxplot of Stock Close Prices')\n",
    "plt.show()"
   ]
  },
  {
   "cell_type": "markdown",
   "id": "cf9139bc",
   "metadata": {},
   "source": [
    "We can see that there are many outliers in our dataset. This suggests that the data distribution is skewed. This could imply the presence of heavy-tailed distributions where extreme values are more common. Therefore, we won't remove these values in our analysis as they are important in this case. "
   ]
  },
  {
   "cell_type": "code",
   "execution_count": 11,
   "id": "f63bb97c",
   "metadata": {},
   "outputs": [
    {
     "data": {
      "text/plain": [
       "array(['AAL', 'AAPL', 'AAP', 'ABBV', 'ABC', 'ABT', 'ACN', 'ADBE', 'ADI',\n",
       "       'ADM', 'ADP', 'ADSK', 'ADS', 'AEE', 'AEP', 'AES', 'AET', 'AFL',\n",
       "       'AGN', 'AIG', 'AIV', 'AIZ', 'AJG', 'AKAM', 'ALB', 'ALGN', 'ALK',\n",
       "       'ALLE', 'ALL', 'ALXN', 'AMAT', 'AMD', 'AME', 'AMGN', 'AMG', 'AMP',\n",
       "       'AMT', 'AMZN', 'ANDV', 'ANSS', 'ANTM', 'AON', 'AOS', 'APA', 'APC',\n",
       "       'APD', 'APH', 'ARE', 'ARNC', 'ATVI', 'AVB', 'AVGO', 'AVY', 'AWK',\n",
       "       'AXP', 'AYI', 'AZO', 'A', 'BAC', 'BAX', 'BA', 'BBT', 'BBY', 'BDX',\n",
       "       'BEN', 'BF.B', 'BIIB', 'BK', 'BLK', 'BLL', 'BMY', 'BRK.B', 'BSX',\n",
       "       'BWA', 'BXP', 'CAG', 'CAH', 'CAT', 'CA', 'CBG', 'CBOE', 'CBS',\n",
       "       'CB', 'CCI', 'CCL', 'CDNS', 'CELG', 'CERN', 'CF', 'CHD', 'CHK',\n",
       "       'CHRW', 'CHTR', 'CINF', 'CI', 'CLX', 'CL', 'CMA', 'CMCSA', 'CME',\n",
       "       'CMG', 'CMI', 'CMS', 'CNC', 'CNP', 'COF', 'COG', 'COL', 'COO',\n",
       "       'COP', 'COST', 'COTY', 'CPB', 'CRM', 'CSCO', 'CSX', 'CTAS', 'CTL',\n",
       "       'CTSH', 'CTXS', 'CVS', 'CVX', 'CXO', 'C', 'DAL', 'DE', 'DFS',\n",
       "       'DGX', 'DG', 'DHI', 'DHR', 'DISCA', 'DISCK', 'DISH', 'DIS', 'DLR',\n",
       "       'DLTR', 'DOV', 'DPS', 'DRE', 'DRI', 'DTE', 'DUK', 'DVA', 'DVN',\n",
       "       'D', 'EA', 'EBAY', 'ECL', 'ED', 'EFX', 'EIX', 'EL', 'EMN', 'EMR',\n",
       "       'EOG', 'EQIX', 'EQR', 'EQT', 'ESRX', 'ESS', 'ES', 'ETFC', 'ETN',\n",
       "       'ETR', 'EW', 'EXC', 'EXPD', 'EXPE', 'EXR', 'FAST', 'FBHS', 'FB',\n",
       "       'FCX', 'FDX', 'FE', 'FFIV', 'FISV', 'FIS', 'FITB', 'FLIR', 'FLR',\n",
       "       'FLS', 'FL', 'FMC', 'FOXA', 'FOX', 'FRT', 'FTI', 'F', 'GD', 'GE',\n",
       "       'GGP', 'GILD', 'GIS', 'GLW', 'GM', 'GOOGL', 'GPC', 'GPN', 'GPS',\n",
       "       'GRMN', 'GS', 'GT', 'GWW', 'HAL', 'HAS', 'HBAN', 'HBI', 'HCA',\n",
       "       'HCN', 'HCP', 'HD', 'HES', 'HIG', 'HII', 'HOG', 'HOLX', 'HON',\n",
       "       'HP', 'HRB', 'HRL', 'HRS', 'HSIC', 'HST', 'HSY', 'HUM', 'IBM',\n",
       "       'ICE', 'IDXX', 'IFF', 'ILMN', 'INCY', 'INTC', 'INTU', 'IPG', 'IP',\n",
       "       'IQV', 'IRM', 'IR', 'ISRG', 'ITW', 'IT', 'IVZ', 'JBHT', 'JCI',\n",
       "       'JEC', 'JNJ', 'JNPR', 'JPM', 'JWN', 'KEY', 'KIM', 'KLAC', 'KMB',\n",
       "       'KMI', 'KMX', 'KORS', 'KO', 'KR', 'KSS', 'KSU', 'K', 'LB', 'LEG',\n",
       "       'LEN', 'LH', 'LKQ', 'LLL', 'LLY', 'LMT', 'LNC', 'LNT', 'LOW',\n",
       "       'LRCX', 'LUK', 'LUV', 'LYB', 'L', 'MAA', 'MAC', 'MAR', 'MAS',\n",
       "       'MAT', 'MA', 'MCD', 'MCHP', 'MCK', 'MCO', 'MDLZ', 'MDT', 'MET',\n",
       "       'MGM', 'MHK', 'MKC', 'MLM', 'MMC', 'MMM', 'MNST', 'MON', 'MOS',\n",
       "       'MO', 'MPC', 'MRK', 'MRO', 'MSFT', 'MSI', 'MS', 'MTB', 'MTD', 'MU',\n",
       "       'MYL', 'M', 'NBL', 'NCLH', 'NDAQ', 'NEE', 'NEM', 'NFLX', 'NFX',\n",
       "       'NI', 'NKE', 'NLSN', 'NOC', 'NOV', 'NRG', 'NSC', 'NTAP', 'NTRS',\n",
       "       'NUE', 'NVDA', 'NWL', 'NWSA', 'NWS', 'OKE', 'OMC', 'ORCL', 'ORLY',\n",
       "       'OXY', 'O', 'PAYX', 'PBCT', 'PCAR', 'PCG', 'PCLN', 'PDCO', 'PEG',\n",
       "       'PEP', 'PFE', 'PFG', 'PGR', 'PG', 'PHM', 'PH', 'PKG', 'PKI', 'PLD',\n",
       "       'PM', 'PNC', 'PNR', 'PNW', 'PPG', 'PPL', 'PRGO', 'PRU', 'PSA',\n",
       "       'PSX', 'PVH', 'PWR', 'PXD', 'PX', 'QCOM', 'RCL', 'REGN', 'REG',\n",
       "       'RE', 'RF', 'RHI', 'RHT', 'RJF', 'RL', 'RMD', 'ROK', 'ROP', 'ROST',\n",
       "       'RRC', 'RSG', 'RTN', 'SBAC', 'SBUX', 'SCG', 'SCHW', 'SEE', 'SHW',\n",
       "       'SIG', 'SJM', 'SLB', 'SLG', 'SNA', 'SNI', 'SNPS', 'SO', 'SPGI',\n",
       "       'SPG', 'SRCL', 'SRE', 'STI', 'STT', 'STX', 'STZ', 'SWKS', 'SWK',\n",
       "       'SYK', 'SYMC', 'SYY', 'TAP', 'TDG', 'TEL', 'TGT', 'TIF', 'TJX',\n",
       "       'TMK', 'TMO', 'TPR', 'TRIP', 'TROW', 'TRV', 'TSCO', 'TSN', 'TSS',\n",
       "       'TWX', 'TXN', 'TXT', 'T', 'UAA', 'UAL', 'UDR', 'UHS', 'ULTA',\n",
       "       'UNH', 'UNM', 'UNP', 'UPS', 'URI', 'USB', 'UTX', 'VAR', 'VFC',\n",
       "       'VIAB', 'VLO', 'VMC', 'VNO', 'VRSK', 'VRSN', 'VRTX', 'VTR', 'VZ',\n",
       "       'V', 'WAT', 'WBA', 'WDC', 'WEC', 'WFC', 'WHR', 'WMB', 'WMT', 'WM',\n",
       "       'WU', 'WYNN', 'WYN', 'WY', 'XEC', 'XEL', 'XLNX', 'XL', 'XOM',\n",
       "       'XRAY', 'XRX', 'XYL', 'YUM', 'ZBH', 'ZION', 'ZTS', 'GOOG', 'NAVI',\n",
       "       'INFO', 'SYF', 'CFG', 'QRVO', 'WRK', 'KHC', 'PYPL', 'HPE', 'HPQ',\n",
       "       'CSRA', 'WLTW', 'UA', 'FTV', 'EVHC', 'HLT', 'DXC', 'BHGE', 'BHF',\n",
       "       'DWDP', 'APTV'], dtype=object)"
      ]
     },
     "execution_count": 11,
     "metadata": {},
     "output_type": "execute_result"
    }
   ],
   "source": [
    "# Lets see which symbols are present in the dataset\n",
    "list_of_companies = stockdf.symbol.unique()\n",
    "list_of_companies"
   ]
  },
  {
   "cell_type": "code",
   "execution_count": 12,
   "id": "26021cd9",
   "metadata": {},
   "outputs": [
    {
     "name": "stdout",
     "output_type": "stream",
     "text": [
      "505\n"
     ]
    }
   ],
   "source": [
    "# Lets see the count of symbols present in the dataset\n",
    "count_of_symbols = stockdf['symbol'].nunique()\n",
    "print(count_of_symbols)"
   ]
  },
  {
   "cell_type": "code",
   "execution_count": 13,
   "id": "b20cdbe5",
   "metadata": {},
   "outputs": [
    {
     "name": "stdout",
     "output_type": "stream",
     "text": [
      "505\n"
     ]
    }
   ],
   "source": [
    "# Lets see the count of symbols present in the dataset\n",
    "print(len(list_of_companies))"
   ]
  },
  {
   "cell_type": "code",
   "execution_count": 14,
   "id": "a818f0fc",
   "metadata": {},
   "outputs": [
    {
     "name": "stderr",
     "output_type": "stream",
     "text": [
      "/var/folders/3c/l6ytm9fn7tvdhs1v5xvjvnh40000gn/T/ipykernel_1503/2428894083.py:2: FutureWarning: The default value of numeric_only in DataFrame.corr is deprecated. In a future version, it will default to False. Select only valid columns or specify the value of numeric_only to silence this warning.\n",
      "  sns.heatmap(stockdf.corr(), cmap='RdBu')\n"
     ]
    },
    {
     "data": {
      "image/png": "[encoded data removed]",
      "text/plain": [
       "<Figure size 1200x900 with 2 Axes>"
      ]
     },
     "metadata": {},
     "output_type": "display_data"
    }
   ],
   "source": [
    "plt.figure(figsize=(12,9))\n",
    "sns.heatmap(stockdf.corr(), cmap='RdBu')\n",
    "plt.title('Correlation Heatmap', fontsize=14)\n",
    "plt.yticks(rotation =0)\n",
    "plt.show()"
   ]
  },
  {
   "cell_type": "markdown",
   "id": "152d0df8",
   "metadata": {},
   "source": [
    "This map makes sense because in reality, the open, high, low, and close prices are pretty close to each other especialliy when we look at it from a daily standpoint."
   ]
  },
  {
   "cell_type": "code",
   "execution_count": 15,
   "id": "8b660ea8",
   "metadata": {},
   "outputs": [
    {
     "name": "stdout",
     "output_type": "stream",
     "text": [
      "Mean RMSE for high: 1.0775277414328044\n",
      "Mean RMSE for low: 1.17856560257534\n",
      "Mean RMSE for close: 1.6015650531440275\n",
      "Mean RMSE for volume: 4742619.65942083\n"
     ]
    }
   ],
   "source": [
    "import pandas as pd\n",
    "from sklearn.model_selection import cross_val_score, KFold\n",
    "from sklearn.linear_model import LinearRegression\n",
    "from sklearn.preprocessing import OneHotEncoder\n",
    "from sklearn.compose import ColumnTransformer\n",
    "from sklearn.pipeline import Pipeline\n",
    "\n",
    "# Separate features and target variables\n",
    "features = stockdf[['open', 'symbol']]\n",
    "targets = stockdf[['high', 'low', 'close', 'volume']]\n",
    "\n",
    "# Create a transformer for one-hot encoding the 'Symbol' column\n",
    "preprocessor = ColumnTransformer(\n",
    "    transformers=[\n",
    "        ('symbol_encoder', OneHotEncoder(), ['symbol'])\n",
    "    ],\n",
    "    remainder='passthrough'\n",
    ")\n",
    "\n",
    "# Create a linear regression model\n",
    "model = LinearRegression()\n",
    "\n",
    "# Create a pipeline with preprocessing and the linear regression model\n",
    "pipeline = Pipeline([\n",
    "    ('preprocessor', preprocessor),\n",
    "    ('model', model)\n",
    "])\n",
    "\n",
    "# Set up cross-validation\n",
    "kfold = KFold(n_splits=5, shuffle=True, random_state=42)\n",
    "\n",
    "# Perform cross-validation for each target variable\n",
    "for target in targets.columns:\n",
    "    scores = cross_val_score(pipeline, features, targets[target], cv=kfold, scoring='neg_mean_squared_error')\n",
    "    rmse_scores = (-scores)**0.5\n",
    "    print(f'Mean RMSE for {target}: {rmse_scores.mean()}')"
   ]
  },
  {
   "cell_type": "markdown",
   "id": "05641c36",
   "metadata": {},
   "source": [
    "## Approach"
   ]
  },
  {
   "cell_type": "markdown",
   "id": "7e7a7e74",
   "metadata": {},
   "source": [
    "#### I aim to develop predictive models for the high, low, and close stock prices by utilizing historical data specific to each company. This involves creating separate models for different companies, where the historical stock data serves as the foundation for forecasting future high, low, and close values. The process entails data analysis, feature selection, model training, evaluation, and visualization, with the ultimate goal of accurately predicting stock price movements for individual companies based on their historical performance. "
   ]
  },
  {
   "cell_type": "code",
   "execution_count": 16,
   "id": "472f83c1",
   "metadata": {},
   "outputs": [
    {
     "data": {
      "text/html": [
       "<div>\n",
       "<style scoped>\n",
       "    .dataframe tbody tr th:only-of-type {\n",
       "        vertical-align: middle;\n",
       "    }\n",
       "\n",
       "    .dataframe tbody tr th {\n",
       "        vertical-align: top;\n",
       "    }\n",
       "\n",
       "    .dataframe thead th {\n",
       "        text-align: right;\n",
       "    }\n",
       "</style>\n",
       "<table border=\"1\" class=\"dataframe\">\n",
       "  <thead>\n",
       "    <tr style=\"text-align: right;\">\n",
       "      <th></th>\n",
       "      <th>date</th>\n",
       "      <th>open</th>\n",
       "      <th>high</th>\n",
       "      <th>low</th>\n",
       "      <th>close</th>\n",
       "      <th>volume</th>\n",
       "    </tr>\n",
       "    <tr>\n",
       "      <th>symbol</th>\n",
       "      <th></th>\n",
       "      <th></th>\n",
       "      <th></th>\n",
       "      <th></th>\n",
       "      <th></th>\n",
       "      <th></th>\n",
       "    </tr>\n",
       "  </thead>\n",
       "  <tbody>\n",
       "    <tr>\n",
       "      <th>A</th>\n",
       "      <td>1007</td>\n",
       "      <td>1007</td>\n",
       "      <td>1007</td>\n",
       "      <td>1007</td>\n",
       "      <td>1007</td>\n",
       "      <td>1007</td>\n",
       "    </tr>\n",
       "    <tr>\n",
       "      <th>AAL</th>\n",
       "      <td>1007</td>\n",
       "      <td>1007</td>\n",
       "      <td>1007</td>\n",
       "      <td>1007</td>\n",
       "      <td>1007</td>\n",
       "      <td>1007</td>\n",
       "    </tr>\n",
       "    <tr>\n",
       "      <th>AAP</th>\n",
       "      <td>1007</td>\n",
       "      <td>1007</td>\n",
       "      <td>1007</td>\n",
       "      <td>1007</td>\n",
       "      <td>1007</td>\n",
       "      <td>1007</td>\n",
       "    </tr>\n",
       "    <tr>\n",
       "      <th>AAPL</th>\n",
       "      <td>1007</td>\n",
       "      <td>1007</td>\n",
       "      <td>1007</td>\n",
       "      <td>1007</td>\n",
       "      <td>1007</td>\n",
       "      <td>1007</td>\n",
       "    </tr>\n",
       "    <tr>\n",
       "      <th>ABBV</th>\n",
       "      <td>1007</td>\n",
       "      <td>1007</td>\n",
       "      <td>1007</td>\n",
       "      <td>1007</td>\n",
       "      <td>1007</td>\n",
       "      <td>1007</td>\n",
       "    </tr>\n",
       "    <tr>\n",
       "      <th>...</th>\n",
       "      <td>...</td>\n",
       "      <td>...</td>\n",
       "      <td>...</td>\n",
       "      <td>...</td>\n",
       "      <td>...</td>\n",
       "      <td>...</td>\n",
       "    </tr>\n",
       "    <tr>\n",
       "      <th>XYL</th>\n",
       "      <td>1007</td>\n",
       "      <td>1007</td>\n",
       "      <td>1007</td>\n",
       "      <td>1007</td>\n",
       "      <td>1007</td>\n",
       "      <td>1007</td>\n",
       "    </tr>\n",
       "    <tr>\n",
       "      <th>YUM</th>\n",
       "      <td>1007</td>\n",
       "      <td>1007</td>\n",
       "      <td>1007</td>\n",
       "      <td>1007</td>\n",
       "      <td>1007</td>\n",
       "      <td>1007</td>\n",
       "    </tr>\n",
       "    <tr>\n",
       "      <th>ZBH</th>\n",
       "      <td>1007</td>\n",
       "      <td>1007</td>\n",
       "      <td>1007</td>\n",
       "      <td>1007</td>\n",
       "      <td>1007</td>\n",
       "      <td>1007</td>\n",
       "    </tr>\n",
       "    <tr>\n",
       "      <th>ZION</th>\n",
       "      <td>1007</td>\n",
       "      <td>1007</td>\n",
       "      <td>1007</td>\n",
       "      <td>1007</td>\n",
       "      <td>1007</td>\n",
       "      <td>1007</td>\n",
       "    </tr>\n",
       "    <tr>\n",
       "      <th>ZTS</th>\n",
       "      <td>1007</td>\n",
       "      <td>1007</td>\n",
       "      <td>1007</td>\n",
       "      <td>1007</td>\n",
       "      <td>1007</td>\n",
       "      <td>1007</td>\n",
       "    </tr>\n",
       "  </tbody>\n",
       "</table>\n",
       "<p>505 rows × 6 columns</p>\n",
       "</div>"
      ],
      "text/plain": [
       "        date  open  high   low  close  volume\n",
       "symbol                                       \n",
       "A       1007  1007  1007  1007   1007    1007\n",
       "AAL     1007  1007  1007  1007   1007    1007\n",
       "AAP     1007  1007  1007  1007   1007    1007\n",
       "AAPL    1007  1007  1007  1007   1007    1007\n",
       "ABBV    1007  1007  1007  1007   1007    1007\n",
       "...      ...   ...   ...   ...    ...     ...\n",
       "XYL     1007  1007  1007  1007   1007    1007\n",
       "YUM     1007  1007  1007  1007   1007    1007\n",
       "ZBH     1007  1007  1007  1007   1007    1007\n",
       "ZION    1007  1007  1007  1007   1007    1007\n",
       "ZTS     1007  1007  1007  1007   1007    1007\n",
       "\n",
       "[505 rows x 6 columns]"
      ]
     },
     "execution_count": 16,
     "metadata": {},
     "output_type": "execute_result"
    }
   ],
   "source": [
    "stock_grouped_company = stockdf.groupby(['symbol']).count()\n",
    "stock_grouped_company"
   ]
  },
  {
   "cell_type": "markdown",
   "id": "3f64282f",
   "metadata": {},
   "source": [
    "So there are 1007 data for each company"
   ]
  },
  {
   "cell_type": "code",
   "execution_count": 17,
   "id": "ad7bf9e1",
   "metadata": {},
   "outputs": [],
   "source": [
    "from sklearn.model_selection import KFold, cross_validate # for Cross-validation\n",
    "from sklearn.linear_model import LinearRegression\n",
    "from sklearn.metrics import r2_score, mean_squared_error"
   ]
  },
  {
   "cell_type": "code",
   "execution_count": 18,
   "id": "51c51836",
   "metadata": {},
   "outputs": [],
   "source": [
    "lr = LinearRegression()"
   ]
  },
  {
   "cell_type": "code",
   "execution_count": 19,
   "id": "4377d9f7",
   "metadata": {},
   "outputs": [
    {
     "name": "stderr",
     "output_type": "stream",
     "text": [
      "/Users/poojasadarangani/anaconda3/lib/python3.10/site-packages/sklearn/metrics/_regression.py:918: UndefinedMetricWarning: R^2 score is not well-defined with less than two samples.\n",
      "  warnings.warn(msg, UndefinedMetricWarning)\n",
      "/Users/poojasadarangani/anaconda3/lib/python3.10/site-packages/sklearn/metrics/_regression.py:918: UndefinedMetricWarning: R^2 score is not well-defined with less than two samples.\n",
      "  warnings.warn(msg, UndefinedMetricWarning)\n",
      "/Users/poojasadarangani/anaconda3/lib/python3.10/site-packages/sklearn/metrics/_regression.py:918: UndefinedMetricWarning: R^2 score is not well-defined with less than two samples.\n",
      "  warnings.warn(msg, UndefinedMetricWarning)\n",
      "/Users/poojasadarangani/anaconda3/lib/python3.10/site-packages/sklearn/metrics/_regression.py:918: UndefinedMetricWarning: R^2 score is not well-defined with less than two samples.\n",
      "  warnings.warn(msg, UndefinedMetricWarning)\n",
      "/Users/poojasadarangani/anaconda3/lib/python3.10/site-packages/sklearn/metrics/_regression.py:918: UndefinedMetricWarning: R^2 score is not well-defined with less than two samples.\n",
      "  warnings.warn(msg, UndefinedMetricWarning)\n",
      "/Users/poojasadarangani/anaconda3/lib/python3.10/site-packages/sklearn/metrics/_regression.py:918: UndefinedMetricWarning: R^2 score is not well-defined with less than two samples.\n",
      "  warnings.warn(msg, UndefinedMetricWarning)\n",
      "/Users/poojasadarangani/anaconda3/lib/python3.10/site-packages/sklearn/metrics/_regression.py:918: UndefinedMetricWarning: R^2 score is not well-defined with less than two samples.\n",
      "  warnings.warn(msg, UndefinedMetricWarning)\n",
      "/Users/poojasadarangani/anaconda3/lib/python3.10/site-packages/sklearn/metrics/_regression.py:918: UndefinedMetricWarning: R^2 score is not well-defined with less than two samples.\n",
      "  warnings.warn(msg, UndefinedMetricWarning)\n"
     ]
    }
   ],
   "source": [
    "Prediction_Accuracy_Data_Columns = ['Company Symbol', 'R^2 Error', 'MSE_Error']\n",
    "Prediction_Columns = ['True Value', 'Prediction']\n",
    "\n",
    "Prediction_Accuracy_High = pd.DataFrame(columns = Prediction_Accuracy_Data_Columns)\n",
    "Prediction_Accuracy_Low = pd.DataFrame(columns = Prediction_Accuracy_Data_Columns)\n",
    "Prediction_Accuracy_Close = pd.DataFrame(columns = Prediction_Accuracy_Data_Columns)\n",
    "Prediction_Accuracy_Volume = pd.DataFrame(columns = Prediction_Accuracy_Data_Columns)\n",
    "\n",
    "Prediction_High = pd.DataFrame(columns = Prediction_Columns)\n",
    "Prediction_Low = pd.DataFrame(columns = Prediction_Columns)\n",
    "Prediction_Close = pd.DataFrame(columns = Prediction_Columns)\n",
    "Prediction_Volume = pd.DataFrame(columns = Prediction_Columns)\n",
    "\n",
    "for company in list_of_companies:\n",
    "    \n",
    "    filtered_rows = stockdf[stockdf['symbol'] == company]\n",
    "    \n",
    "    X_features = filtered_rows[['open']]\n",
    "\n",
    "    y_response1 = filtered_rows[['high']]\n",
    "    y_response2 = filtered_rows[['low']]\n",
    "    y_response3 = filtered_rows[['close']]\n",
    "    y_response4 = filtered_rows[['volume']]\n",
    "    \n",
    "    \n",
    "    cv_split = KFold(n_splits=10, shuffle=True, random_state=371) # random state ensures reproducable output across multiple function calls\n",
    "    \n",
    "    # PREDICTING HIGH\n",
    "    \n",
    "    r2_lr_list1 = []\n",
    "    mse_lr_list1 = []\n",
    "    \n",
    "    for idx_train1, idx_test1 in cv_split.split(X_features, y_response1):\n",
    "        X_train1 = X_features.iloc[idx_train1]\n",
    "        X_test1 = X_features.iloc[idx_test1]\n",
    "        y_train1 = y_response1.iloc[idx_train1]\n",
    "        y_test1 = y_response1.iloc[idx_test1]\n",
    "        #print(X_train1.shape, X_test1.shape)\n",
    "    \n",
    "        # linear regression\n",
    "        m_lr1 = lr.fit(X_train1, y_train1)\n",
    "        y_pred1 = m_lr1.predict(X_test1)\n",
    "        \n",
    "        prediction_row_high = pd.DataFrame({'True Value': y_test1.values.reshape(-1), 'Prediction': y_pred1.reshape(-1)})\n",
    "        Prediction_High = pd.concat([Prediction_High,prediction_row_high], ignore_index=True)\n",
    "    \n",
    "        # R^2\n",
    "        r2_lr1 = r2_score(y_true=y_test1, y_pred=y_pred1)\n",
    "        r2_lr_list1.append(r2_lr1)\n",
    "    \n",
    "        # mean squared error\n",
    "        mse_lr1 = mean_squared_error(y_true=y_test1, y_pred=y_pred1)\n",
    "        mse_lr_list1.append(mse_lr1)\n",
    "\n",
    "    #print(\"average R2 score of linear regression for predicting variable is open:\", company, np.mean(r2_lr_list1))\n",
    "    #print(\"average MSE linear regression for prdeicting variable is open:\", company, np.mean(mse_lr_list1))\n",
    "    \n",
    "    new_row_high = pd.DataFrame({'Company Symbol': [company], 'R^2 Error': [np.mean(r2_lr_list1)], 'MSE_Error': [np.mean(mse_lr_list1)]})\n",
    "    \n",
    "    Prediction_Accuracy_High = pd.concat([Prediction_Accuracy_High, new_row_high], ignore_index=True)\n",
    "    \n",
    "    # PREDICTING LOW                                                                                                   \n",
    "                                                                                                                                                                                                        \n",
    "    r2_lr_list2 = []\n",
    "    mse_lr_list2 = []\n",
    "    \n",
    "    for idx_train2, idx_test2 in cv_split.split(X_features, y_response2):\n",
    "        X_train2 = X_features.iloc[idx_train2]\n",
    "        X_test2 = X_features.iloc[idx_test2]\n",
    "        y_train2 = y_response2.iloc[idx_train2]\n",
    "        y_test2 = y_response2.iloc[idx_test2]\n",
    "        #print(X_train2.shape, X_test2.shape)\n",
    "    \n",
    "        # linear regression\n",
    "        m_lr2 = lr.fit(X_train2, y_train2)\n",
    "        y_pred2 = m_lr2.predict(X_test2)\n",
    "        \n",
    "        prediction_row_low = pd.DataFrame({'True Value': y_test2.values.reshape(-1), 'Prediction': y_pred2.reshape(-1)})\n",
    "        Prediction_Low = pd.concat([Prediction_Low,prediction_row_low], ignore_index=True)\n",
    "    \n",
    "        # R^2\n",
    "        r2_lr2 = r2_score(y_true=y_test2, y_pred=y_pred2)\n",
    "        r2_lr_list2.append(r2_lr2)\n",
    "    \n",
    "        # mean squared error\n",
    "        mse_lr2 = mean_squared_error(y_true=y_test2, y_pred=y_pred2)\n",
    "        mse_lr_list2.append(mse_lr2)\n",
    "\n",
    "    #print(\"average R2 score of linear regression for predicting variable is high:\", company, np.mean(r2_lr_list2))\n",
    "    #print(\"average MSE linear regression for prdeicting variable is high:\", company, np.mean(mse_lr_list2))\n",
    "    \n",
    "    new_row_low = pd.DataFrame({'Company Symbol': [company], 'R^2 Error': [np.mean(r2_lr_list2)], 'MSE_Error' : [np.mean(mse_lr_list2)]})\n",
    "    \n",
    "    Prediction_Accuracy_Low = pd.concat([Prediction_Accuracy_Low, new_row_low], ignore_index=True)                                                                                                   \n",
    "                                                                                                       \n",
    "    # PREDICTING CLOSE                                                                                                                                                                                                                                                                                                   \n",
    "    \n",
    "    r2_lr_list3 = []\n",
    "    mse_lr_list3 = []                                                                                                   \n",
    "                                                                                                       \n",
    "    for idx_train3, idx_test3 in cv_split.split(X_features, y_response3):\n",
    "        X_train3 = X_features.iloc[idx_train3] \n",
    "        X_test3 = X_features.iloc[idx_test3] \n",
    "        y_train3 = y_response3.iloc[idx_train3]   \n",
    "        y_test3 = y_response3.iloc[idx_test3]\n",
    "        #print(X_train2.shape, X_test2.shape) \n",
    "         \n",
    "        #Linear Regression\n",
    "        m_lr3 = lr.fit(X_train3, y_train3)\n",
    "        y_pred3 = m_lr3.predict(X_test3)                                                                                              \n",
    "        \n",
    "        prediction_row_close = pd.DataFrame({'True Value': y_test3.values.reshape(-1), 'Prediction': y_pred3.reshape(-1)})\n",
    "        Prediction_Close = pd.concat([Prediction_Close,prediction_row_close], ignore_index=True)\n",
    "        \n",
    "        r2_lr3 = r2_score(y_true=y_test3, y_pred=y_pred3) \n",
    "        r2_lr_list3.append(r2_lr3)\n",
    "         \n",
    "        mse_lr3 = mean_squared_error(y_true=y_test3, y_pred=y_pred3)\n",
    "        mse_lr_list3.append(mse_lr3)\n",
    "                                                                                                       \n",
    "    #print(\"average R2 score of linear regression for predicting variable is close:\", company, np.mean(r2_lr_list3))\n",
    "    #print(\"average MSE linear regression for predicting variable is close:\", company, np.mean(mse_lr_list3))                                                                                              \n",
    "         \n",
    "    new_row_close = pd.DataFrame({'Company Symbol': [company], 'R^2 Error': [np.mean(r2_lr_list3)], 'MSE_Error' : [np.mean(mse_lr_list3)]})\n",
    "                                                                                                  \n",
    "    Prediction_Accuracy_Close = pd.concat([Prediction_Accuracy_Close, new_row_close], ignore_index=True) \n",
    "                                                                                                       \n",
    "    # PREDICTING VOLUME                                                                                                                                                                                                                                                                                                                                                                                                   \n",
    "    \n",
    "    r2_lr_list4 = []\n",
    "    mse_lr_list4 = []                                                                                                   \n",
    "                                                                                                       \n",
    "    for idx_train4, idx_test4 in cv_split.split(X_features, y_response4):\n",
    "        X_train4 = X_features.iloc[idx_train4] \n",
    "        X_test4 = X_features.iloc[idx_test4] \n",
    "        y_train4 = y_response4.iloc[idx_train4]   \n",
    "        y_test4 = y_response4.iloc[idx_test4]\n",
    "        #print(X_train2.shape, X_test2.shape) \n",
    "         \n",
    "        #Linear Regression\n",
    "        m_lr4 = lr.fit(X_train4, y_train4)\n",
    "        y_pred4 = m_lr4.predict(X_test4)                                                                                              \n",
    "                                                                                                       \n",
    "        r2_lr4 = r2_score(y_true=y_test4, y_pred=y_pred4) \n",
    "        r2_lr_list4.append(r2_lr4)\n",
    "        \n",
    "        prediction_row_volume = pd.DataFrame({'True Value': y_test4.values.reshape(-1), 'Prediction': y_pred4.reshape(-1)})\n",
    "        Prediction_Volume = pd.concat([Prediction_Volume,prediction_row_volume], ignore_index=True)\n",
    "         \n",
    "        mse_lr4 = mean_squared_error(y_true=y_test4, y_pred=y_pred4)\n",
    "        mse_lr_list4.append(mse_lr4)\n",
    "                                                                                                       \n",
    "    #print(\"average R2 score of linear regression for predicting variable is close:\", company, np.mean(r2_lr_list4))\n",
    "    #print(\"average MSE linear regression for predicting variable is close:\", company, np.mean(mse_lr_list4))                                                                                              \n",
    "         \n",
    "    new_row_volume = pd.DataFrame({'Company Symbol': [company], 'R^2 Error': [np.mean(r2_lr_list4)], 'MSE_Error' : [np.mean(mse_lr_list4)]})\n",
    "                                                                                                  \n",
    "    Prediction_Accuracy_Volume = pd.concat([Prediction_Accuracy_Volume, new_row_volume], ignore_index=True)                                                                                                     \n",
    "                                                                                                       "
   ]
  },
  {
   "cell_type": "code",
   "execution_count": 20,
   "id": "2062996b",
   "metadata": {
    "scrolled": true
   },
   "outputs": [
    {
     "data": {
      "text/html": [
       "<div>\n",
       "<style scoped>\n",
       "    .dataframe tbody tr th:only-of-type {\n",
       "        vertical-align: middle;\n",
       "    }\n",
       "\n",
       "    .dataframe tbody tr th {\n",
       "        vertical-align: top;\n",
       "    }\n",
       "\n",
       "    .dataframe thead th {\n",
       "        text-align: right;\n",
       "    }\n",
       "</style>\n",
       "<table border=\"1\" class=\"dataframe\">\n",
       "  <thead>\n",
       "    <tr style=\"text-align: right;\">\n",
       "      <th></th>\n",
       "      <th>Company Symbol</th>\n",
       "      <th>R^2 Error</th>\n",
       "      <th>MSE_Error</th>\n",
       "    </tr>\n",
       "  </thead>\n",
       "  <tbody>\n",
       "    <tr>\n",
       "      <th>0</th>\n",
       "      <td>AAL</td>\n",
       "      <td>0.993025</td>\n",
       "      <td>0.250075</td>\n",
       "    </tr>\n",
       "    <tr>\n",
       "      <th>1</th>\n",
       "      <td>AAPL</td>\n",
       "      <td>0.998594</td>\n",
       "      <td>0.818961</td>\n",
       "    </tr>\n",
       "    <tr>\n",
       "      <th>2</th>\n",
       "      <td>AAP</td>\n",
       "      <td>0.996027</td>\n",
       "      <td>2.381137</td>\n",
       "    </tr>\n",
       "    <tr>\n",
       "      <th>3</th>\n",
       "      <td>ABBV</td>\n",
       "      <td>0.996076</td>\n",
       "      <td>0.410600</td>\n",
       "    </tr>\n",
       "    <tr>\n",
       "      <th>4</th>\n",
       "      <td>ABC</td>\n",
       "      <td>0.996408</td>\n",
       "      <td>0.584501</td>\n",
       "    </tr>\n",
       "    <tr>\n",
       "      <th>...</th>\n",
       "      <td>...</td>\n",
       "      <td>...</td>\n",
       "      <td>...</td>\n",
       "    </tr>\n",
       "    <tr>\n",
       "      <th>500</th>\n",
       "      <td>DXC</td>\n",
       "      <td>0.991716</td>\n",
       "      <td>0.447582</td>\n",
       "    </tr>\n",
       "    <tr>\n",
       "      <th>501</th>\n",
       "      <td>BHGE</td>\n",
       "      <td>0.963093</td>\n",
       "      <td>0.266399</td>\n",
       "    </tr>\n",
       "    <tr>\n",
       "      <th>502</th>\n",
       "      <td>BHF</td>\n",
       "      <td>0.964410</td>\n",
       "      <td>0.319929</td>\n",
       "    </tr>\n",
       "    <tr>\n",
       "      <th>503</th>\n",
       "      <td>DWDP</td>\n",
       "      <td>0.894080</td>\n",
       "      <td>0.153678</td>\n",
       "    </tr>\n",
       "    <tr>\n",
       "      <th>504</th>\n",
       "      <td>APTV</td>\n",
       "      <td>NaN</td>\n",
       "      <td>0.231855</td>\n",
       "    </tr>\n",
       "  </tbody>\n",
       "</table>\n",
       "<p>505 rows × 3 columns</p>\n",
       "</div>"
      ],
      "text/plain": [
       "    Company Symbol  R^2 Error  MSE_Error\n",
       "0              AAL   0.993025   0.250075\n",
       "1             AAPL   0.998594   0.818961\n",
       "2              AAP   0.996027   2.381137\n",
       "3             ABBV   0.996076   0.410600\n",
       "4              ABC   0.996408   0.584501\n",
       "..             ...        ...        ...\n",
       "500            DXC   0.991716   0.447582\n",
       "501           BHGE   0.963093   0.266399\n",
       "502            BHF   0.964410   0.319929\n",
       "503           DWDP   0.894080   0.153678\n",
       "504           APTV        NaN   0.231855\n",
       "\n",
       "[505 rows x 3 columns]"
      ]
     },
     "execution_count": 20,
     "metadata": {},
     "output_type": "execute_result"
    }
   ],
   "source": [
    "Prediction_Accuracy_High"
   ]
  },
  {
   "cell_type": "code",
   "execution_count": 23,
   "id": "f5c9ac79",
   "metadata": {},
   "outputs": [
    {
     "data": {
      "text/html": [
       "<div>\n",
       "<style scoped>\n",
       "    .dataframe tbody tr th:only-of-type {\n",
       "        vertical-align: middle;\n",
       "    }\n",
       "\n",
       "    .dataframe tbody tr th {\n",
       "        vertical-align: top;\n",
       "    }\n",
       "\n",
       "    .dataframe thead th {\n",
       "        text-align: right;\n",
       "    }\n",
       "</style>\n",
       "<table border=\"1\" class=\"dataframe\">\n",
       "  <thead>\n",
       "    <tr style=\"text-align: right;\">\n",
       "      <th></th>\n",
       "      <th>True Value</th>\n",
       "      <th>Prediction</th>\n",
       "      <th>error_rate</th>\n",
       "    </tr>\n",
       "  </thead>\n",
       "  <tbody>\n",
       "    <tr>\n",
       "      <th>0</th>\n",
       "      <td>27.2000</td>\n",
       "      <td>27.296750</td>\n",
       "      <td>0.355699</td>\n",
       "    </tr>\n",
       "    <tr>\n",
       "      <th>1</th>\n",
       "      <td>35.0400</td>\n",
       "      <td>34.718125</td>\n",
       "      <td>-0.918593</td>\n",
       "    </tr>\n",
       "    <tr>\n",
       "      <th>2</th>\n",
       "      <td>39.2600</td>\n",
       "      <td>39.280527</td>\n",
       "      <td>0.052285</td>\n",
       "    </tr>\n",
       "    <tr>\n",
       "      <th>3</th>\n",
       "      <td>38.0800</td>\n",
       "      <td>38.603140</td>\n",
       "      <td>1.373792</td>\n",
       "    </tr>\n",
       "    <tr>\n",
       "      <th>4</th>\n",
       "      <td>37.9899</td>\n",
       "      <td>38.533409</td>\n",
       "      <td>1.430667</td>\n",
       "    </tr>\n",
       "    <tr>\n",
       "      <th>...</th>\n",
       "      <td>...</td>\n",
       "      <td>...</td>\n",
       "      <td>...</td>\n",
       "    </tr>\n",
       "    <tr>\n",
       "      <th>497456</th>\n",
       "      <td>86.3900</td>\n",
       "      <td>86.379426</td>\n",
       "      <td>-0.012240</td>\n",
       "    </tr>\n",
       "    <tr>\n",
       "      <th>497457</th>\n",
       "      <td>86.7900</td>\n",
       "      <td>87.437457</td>\n",
       "      <td>0.746004</td>\n",
       "    </tr>\n",
       "    <tr>\n",
       "      <th>497458</th>\n",
       "      <td>85.4700</td>\n",
       "      <td>85.638687</td>\n",
       "      <td>0.197364</td>\n",
       "    </tr>\n",
       "    <tr>\n",
       "      <th>497459</th>\n",
       "      <td>84.4800</td>\n",
       "      <td>84.488567</td>\n",
       "      <td>0.010140</td>\n",
       "    </tr>\n",
       "    <tr>\n",
       "      <th>497460</th>\n",
       "      <td>85.1900</td>\n",
       "      <td>85.281110</td>\n",
       "      <td>0.106949</td>\n",
       "    </tr>\n",
       "  </tbody>\n",
       "</table>\n",
       "<p>497461 rows × 3 columns</p>\n",
       "</div>"
      ],
      "text/plain": [
       "        True Value  Prediction  error_rate\n",
       "0          27.2000   27.296750    0.355699\n",
       "1          35.0400   34.718125   -0.918593\n",
       "2          39.2600   39.280527    0.052285\n",
       "3          38.0800   38.603140    1.373792\n",
       "4          37.9899   38.533409    1.430667\n",
       "...            ...         ...         ...\n",
       "497456     86.3900   86.379426   -0.012240\n",
       "497457     86.7900   87.437457    0.746004\n",
       "497458     85.4700   85.638687    0.197364\n",
       "497459     84.4800   84.488567    0.010140\n",
       "497460     85.1900   85.281110    0.106949\n",
       "\n",
       "[497461 rows x 3 columns]"
      ]
     },
     "execution_count": 23,
     "metadata": {},
     "output_type": "execute_result"
    }
   ],
   "source": [
    "Prediction_High['error_rate'] = (Prediction_High['Prediction'] - Prediction_High['True Value'])*100/Prediction_High['True Value']\n",
    "Prediction_High"
   ]
  },
  {
   "cell_type": "code",
   "execution_count": 24,
   "id": "dae773e4",
   "metadata": {},
   "outputs": [
    {
     "data": {
      "text/plain": [
       "0.008865234360564989"
      ]
     },
     "execution_count": 24,
     "metadata": {},
     "output_type": "execute_result"
    }
   ],
   "source": [
    "Prediction_High['error_rate'].mean()"
   ]
  },
  {
   "cell_type": "code",
   "execution_count": 237,
   "id": "ca60e8ed",
   "metadata": {},
   "outputs": [
    {
     "data": {
      "text/plain": [
       "1.1521447968162186"
      ]
     },
     "execution_count": 237,
     "metadata": {},
     "output_type": "execute_result"
    }
   ],
   "source": [
    "mse_final_high = mean_squared_error(y_true=Prediction_High['True Value'], y_pred=Prediction_High['Prediction'])\n",
    "mse_final_high"
   ]
  },
  {
   "cell_type": "code",
   "execution_count": 238,
   "id": "75d46ac6",
   "metadata": {},
   "outputs": [
    {
     "data": {
      "text/plain": [
       "0.9998899343251234"
      ]
     },
     "execution_count": 238,
     "metadata": {},
     "output_type": "execute_result"
    }
   ],
   "source": [
    "r2_score_final_high = r2_score(y_true=Prediction_High['True Value'], y_pred=Prediction_High['Prediction'])\n",
    "r2_score_final_high"
   ]
  },
  {
   "cell_type": "markdown",
   "id": "477aed3a",
   "metadata": {},
   "source": [
    "I manually changed the value of k to select the one resulting in least average error rate for 'close'\n",
    "\n",
    "1. k = 3 --> mse = 1.152664121778224 | r2_score = 0.9998898847134318\n",
    "3. k = 5 --> mse = 1.151756521020337 | r2_score = 0.9998899714175424\n",
    "4. k = 10 --> mse = 1.1521447968162186 | r2_score = 0.9998899343251234\n"
   ]
  },
  {
   "cell_type": "code",
   "execution_count": 239,
   "id": "3e2ea1fe",
   "metadata": {},
   "outputs": [
    {
     "data": {
      "text/html": [
       "<div>\n",
       "<style scoped>\n",
       "    .dataframe tbody tr th:only-of-type {\n",
       "        vertical-align: middle;\n",
       "    }\n",
       "\n",
       "    .dataframe tbody tr th {\n",
       "        vertical-align: top;\n",
       "    }\n",
       "\n",
       "    .dataframe thead th {\n",
       "        text-align: right;\n",
       "    }\n",
       "</style>\n",
       "<table border=\"1\" class=\"dataframe\">\n",
       "  <thead>\n",
       "    <tr style=\"text-align: right;\">\n",
       "      <th></th>\n",
       "      <th>Company Symbol</th>\n",
       "      <th>R^2 Error</th>\n",
       "      <th>MSE_Error</th>\n",
       "    </tr>\n",
       "  </thead>\n",
       "  <tbody>\n",
       "    <tr>\n",
       "      <th>0</th>\n",
       "      <td>AAL</td>\n",
       "      <td>0.990956</td>\n",
       "      <td>0.324794</td>\n",
       "    </tr>\n",
       "    <tr>\n",
       "      <th>1</th>\n",
       "      <td>AAPL</td>\n",
       "      <td>0.998346</td>\n",
       "      <td>0.986221</td>\n",
       "    </tr>\n",
       "    <tr>\n",
       "      <th>2</th>\n",
       "      <td>AAP</td>\n",
       "      <td>0.996152</td>\n",
       "      <td>2.187031</td>\n",
       "    </tr>\n",
       "    <tr>\n",
       "      <th>3</th>\n",
       "      <td>ABBV</td>\n",
       "      <td>0.994607</td>\n",
       "      <td>0.529270</td>\n",
       "    </tr>\n",
       "    <tr>\n",
       "      <th>4</th>\n",
       "      <td>ABC</td>\n",
       "      <td>0.996535</td>\n",
       "      <td>0.551091</td>\n",
       "    </tr>\n",
       "    <tr>\n",
       "      <th>...</th>\n",
       "      <td>...</td>\n",
       "      <td>...</td>\n",
       "      <td>...</td>\n",
       "    </tr>\n",
       "    <tr>\n",
       "      <th>500</th>\n",
       "      <td>DXC</td>\n",
       "      <td>0.993913</td>\n",
       "      <td>0.333929</td>\n",
       "    </tr>\n",
       "    <tr>\n",
       "      <th>501</th>\n",
       "      <td>BHGE</td>\n",
       "      <td>0.966788</td>\n",
       "      <td>0.209280</td>\n",
       "    </tr>\n",
       "    <tr>\n",
       "      <th>502</th>\n",
       "      <td>BHF</td>\n",
       "      <td>0.938649</td>\n",
       "      <td>0.604836</td>\n",
       "    </tr>\n",
       "    <tr>\n",
       "      <th>503</th>\n",
       "      <td>DWDP</td>\n",
       "      <td>0.910298</td>\n",
       "      <td>0.156190</td>\n",
       "    </tr>\n",
       "    <tr>\n",
       "      <th>504</th>\n",
       "      <td>APTV</td>\n",
       "      <td>NaN</td>\n",
       "      <td>0.336013</td>\n",
       "    </tr>\n",
       "  </tbody>\n",
       "</table>\n",
       "<p>505 rows × 3 columns</p>\n",
       "</div>"
      ],
      "text/plain": [
       "    Company Symbol  R^2 Error  MSE_Error\n",
       "0              AAL   0.990956   0.324794\n",
       "1             AAPL   0.998346   0.986221\n",
       "2              AAP   0.996152   2.187031\n",
       "3             ABBV   0.994607   0.529270\n",
       "4              ABC   0.996535   0.551091\n",
       "..             ...        ...        ...\n",
       "500            DXC   0.993913   0.333929\n",
       "501           BHGE   0.966788   0.209280\n",
       "502            BHF   0.938649   0.604836\n",
       "503           DWDP   0.910298   0.156190\n",
       "504           APTV        NaN   0.336013\n",
       "\n",
       "[505 rows x 3 columns]"
      ]
     },
     "execution_count": 239,
     "metadata": {},
     "output_type": "execute_result"
    }
   ],
   "source": [
    "Prediction_Accuracy_Low"
   ]
  },
  {
   "cell_type": "code",
   "execution_count": 25,
   "id": "8c22d025",
   "metadata": {},
   "outputs": [],
   "source": [
    "Prediction_Low['error_rate'] = (Prediction_Low['Prediction'] - Prediction_Low['True Value'])*100/Prediction_Low['True Value']"
   ]
  },
  {
   "cell_type": "code",
   "execution_count": 26,
   "id": "97fdac0d",
   "metadata": {},
   "outputs": [
    {
     "data": {
      "text/html": [
       "<div>\n",
       "<style scoped>\n",
       "    .dataframe tbody tr th:only-of-type {\n",
       "        vertical-align: middle;\n",
       "    }\n",
       "\n",
       "    .dataframe tbody tr th {\n",
       "        vertical-align: top;\n",
       "    }\n",
       "\n",
       "    .dataframe thead th {\n",
       "        text-align: right;\n",
       "    }\n",
       "</style>\n",
       "<table border=\"1\" class=\"dataframe\">\n",
       "  <thead>\n",
       "    <tr style=\"text-align: right;\">\n",
       "      <th></th>\n",
       "      <th>True Value</th>\n",
       "      <th>Prediction</th>\n",
       "      <th>error_rate</th>\n",
       "    </tr>\n",
       "  </thead>\n",
       "  <tbody>\n",
       "    <tr>\n",
       "      <th>0</th>\n",
       "      <td>26.60</td>\n",
       "      <td>26.190766</td>\n",
       "      <td>-1.538473</td>\n",
       "    </tr>\n",
       "    <tr>\n",
       "      <th>1</th>\n",
       "      <td>34.06</td>\n",
       "      <td>33.549840</td>\n",
       "      <td>-1.497828</td>\n",
       "    </tr>\n",
       "    <tr>\n",
       "      <th>2</th>\n",
       "      <td>37.95</td>\n",
       "      <td>38.073941</td>\n",
       "      <td>0.326591</td>\n",
       "    </tr>\n",
       "    <tr>\n",
       "      <th>3</th>\n",
       "      <td>37.23</td>\n",
       "      <td>37.402241</td>\n",
       "      <td>0.462639</td>\n",
       "    </tr>\n",
       "    <tr>\n",
       "      <th>4</th>\n",
       "      <td>35.75</td>\n",
       "      <td>37.333095</td>\n",
       "      <td>4.428238</td>\n",
       "    </tr>\n",
       "    <tr>\n",
       "      <th>...</th>\n",
       "      <td>...</td>\n",
       "      <td>...</td>\n",
       "      <td>...</td>\n",
       "    </tr>\n",
       "    <tr>\n",
       "      <th>497456</th>\n",
       "      <td>85.30</td>\n",
       "      <td>84.550888</td>\n",
       "      <td>-0.878208</td>\n",
       "    </tr>\n",
       "    <tr>\n",
       "      <th>497457</th>\n",
       "      <td>84.88</td>\n",
       "      <td>85.024993</td>\n",
       "      <td>0.170821</td>\n",
       "    </tr>\n",
       "    <tr>\n",
       "      <th>497458</th>\n",
       "      <td>84.61</td>\n",
       "      <td>84.222782</td>\n",
       "      <td>-0.457650</td>\n",
       "    </tr>\n",
       "    <tr>\n",
       "      <th>497459</th>\n",
       "      <td>83.42</td>\n",
       "      <td>83.809845</td>\n",
       "      <td>0.467327</td>\n",
       "    </tr>\n",
       "    <tr>\n",
       "      <th>497460</th>\n",
       "      <td>84.16</td>\n",
       "      <td>84.091695</td>\n",
       "      <td>-0.081161</td>\n",
       "    </tr>\n",
       "  </tbody>\n",
       "</table>\n",
       "<p>497461 rows × 3 columns</p>\n",
       "</div>"
      ],
      "text/plain": [
       "        True Value  Prediction  error_rate\n",
       "0            26.60   26.190766   -1.538473\n",
       "1            34.06   33.549840   -1.497828\n",
       "2            37.95   38.073941    0.326591\n",
       "3            37.23   37.402241    0.462639\n",
       "4            35.75   37.333095    4.428238\n",
       "...            ...         ...         ...\n",
       "497456       85.30   84.550888   -0.878208\n",
       "497457       84.88   85.024993    0.170821\n",
       "497458       84.61   84.222782   -0.457650\n",
       "497459       83.42   83.809845    0.467327\n",
       "497460       84.16   84.091695   -0.081161\n",
       "\n",
       "[497461 rows x 3 columns]"
      ]
     },
     "execution_count": 26,
     "metadata": {},
     "output_type": "execute_result"
    }
   ],
   "source": [
    "Prediction_Low"
   ]
  },
  {
   "cell_type": "code",
   "execution_count": 27,
   "id": "36e90d40",
   "metadata": {},
   "outputs": [
    {
     "data": {
      "text/plain": [
       "0.01016062711978186"
      ]
     },
     "execution_count": 27,
     "metadata": {},
     "output_type": "execute_result"
    }
   ],
   "source": [
    "Prediction_Low['error_rate'].mean()"
   ]
  },
  {
   "cell_type": "code",
   "execution_count": 240,
   "id": "254af7aa",
   "metadata": {},
   "outputs": [
    {
     "data": {
      "text/plain": [
       "1.3750677704268126"
      ]
     },
     "execution_count": 240,
     "metadata": {},
     "output_type": "execute_result"
    }
   ],
   "source": [
    "mse_final_low = mean_squared_error(y_true=Prediction_Low['True Value'], y_pred=Prediction_Low['Prediction'])\n",
    "mse_final_low"
   ]
  },
  {
   "cell_type": "code",
   "execution_count": 241,
   "id": "36b8de26",
   "metadata": {},
   "outputs": [
    {
     "data": {
      "text/plain": [
       "0.9998640505534618"
      ]
     },
     "execution_count": 241,
     "metadata": {},
     "output_type": "execute_result"
    }
   ],
   "source": [
    "r2_score_final_low = r2_score(y_true=Prediction_Low['True Value'], y_pred=Prediction_Low['Prediction'])\n",
    "r2_score_final_low"
   ]
  },
  {
   "cell_type": "markdown",
   "id": "306fa235",
   "metadata": {},
   "source": [
    "I manually changed the value of k to select the one resulting in least average error rate for 'low'\n",
    "\n",
    "1. k = 3 --> mse = 1.3760990694026538 | r2_score = 0.99986394859156\n",
    "3. k = 5 --> mse = 1.376262989167583 | r2_score = 0.9998639323852305\n",
    "4. k = 10 --> mse = 1.3750677704268126 | r2_score = 0.9998640505534618\n"
   ]
  },
  {
   "cell_type": "code",
   "execution_count": 242,
   "id": "144a1a1b",
   "metadata": {},
   "outputs": [
    {
     "data": {
      "text/html": [
       "<div>\n",
       "<style scoped>\n",
       "    .dataframe tbody tr th:only-of-type {\n",
       "        vertical-align: middle;\n",
       "    }\n",
       "\n",
       "    .dataframe tbody tr th {\n",
       "        vertical-align: top;\n",
       "    }\n",
       "\n",
       "    .dataframe thead th {\n",
       "        text-align: right;\n",
       "    }\n",
       "</style>\n",
       "<table border=\"1\" class=\"dataframe\">\n",
       "  <thead>\n",
       "    <tr style=\"text-align: right;\">\n",
       "      <th></th>\n",
       "      <th>Company Symbol</th>\n",
       "      <th>R^2 Error</th>\n",
       "      <th>MSE_Error</th>\n",
       "    </tr>\n",
       "  </thead>\n",
       "  <tbody>\n",
       "    <tr>\n",
       "      <th>0</th>\n",
       "      <td>AAL</td>\n",
       "      <td>0.982489</td>\n",
       "      <td>0.630550</td>\n",
       "    </tr>\n",
       "    <tr>\n",
       "      <th>1</th>\n",
       "      <td>AAPL</td>\n",
       "      <td>0.997060</td>\n",
       "      <td>1.738517</td>\n",
       "    </tr>\n",
       "    <tr>\n",
       "      <th>2</th>\n",
       "      <td>AAP</td>\n",
       "      <td>0.993158</td>\n",
       "      <td>4.052997</td>\n",
       "    </tr>\n",
       "    <tr>\n",
       "      <th>3</th>\n",
       "      <td>ABBV</td>\n",
       "      <td>0.992371</td>\n",
       "      <td>0.795788</td>\n",
       "    </tr>\n",
       "    <tr>\n",
       "      <th>4</th>\n",
       "      <td>ABC</td>\n",
       "      <td>0.994311</td>\n",
       "      <td>0.910759</td>\n",
       "    </tr>\n",
       "    <tr>\n",
       "      <th>...</th>\n",
       "      <td>...</td>\n",
       "      <td>...</td>\n",
       "      <td>...</td>\n",
       "    </tr>\n",
       "    <tr>\n",
       "      <th>500</th>\n",
       "      <td>DXC</td>\n",
       "      <td>0.986658</td>\n",
       "      <td>0.711985</td>\n",
       "    </tr>\n",
       "    <tr>\n",
       "      <th>501</th>\n",
       "      <td>BHGE</td>\n",
       "      <td>0.910293</td>\n",
       "      <td>0.614690</td>\n",
       "    </tr>\n",
       "    <tr>\n",
       "      <th>502</th>\n",
       "      <td>BHF</td>\n",
       "      <td>0.908146</td>\n",
       "      <td>0.919902</td>\n",
       "    </tr>\n",
       "    <tr>\n",
       "      <th>503</th>\n",
       "      <td>DWDP</td>\n",
       "      <td>0.773569</td>\n",
       "      <td>0.360596</td>\n",
       "    </tr>\n",
       "    <tr>\n",
       "      <th>504</th>\n",
       "      <td>APTV</td>\n",
       "      <td>NaN</td>\n",
       "      <td>1.370246</td>\n",
       "    </tr>\n",
       "  </tbody>\n",
       "</table>\n",
       "<p>505 rows × 3 columns</p>\n",
       "</div>"
      ],
      "text/plain": [
       "    Company Symbol  R^2 Error  MSE_Error\n",
       "0              AAL   0.982489   0.630550\n",
       "1             AAPL   0.997060   1.738517\n",
       "2              AAP   0.993158   4.052997\n",
       "3             ABBV   0.992371   0.795788\n",
       "4              ABC   0.994311   0.910759\n",
       "..             ...        ...        ...\n",
       "500            DXC   0.986658   0.711985\n",
       "501           BHGE   0.910293   0.614690\n",
       "502            BHF   0.908146   0.919902\n",
       "503           DWDP   0.773569   0.360596\n",
       "504           APTV        NaN   1.370246\n",
       "\n",
       "[505 rows x 3 columns]"
      ]
     },
     "execution_count": 242,
     "metadata": {},
     "output_type": "execute_result"
    }
   ],
   "source": [
    "Prediction_Accuracy_Close"
   ]
  },
  {
   "cell_type": "code",
   "execution_count": 28,
   "id": "5cff3c95",
   "metadata": {},
   "outputs": [],
   "source": [
    "Prediction_Close['error_rate'] = (Prediction_Close['Prediction'] - Prediction_Close['True Value'])*100/Prediction_Close['True Value']"
   ]
  },
  {
   "cell_type": "code",
   "execution_count": 29,
   "id": "caaa2ee7",
   "metadata": {},
   "outputs": [
    {
     "data": {
      "text/html": [
       "<div>\n",
       "<style scoped>\n",
       "    .dataframe tbody tr th:only-of-type {\n",
       "        vertical-align: middle;\n",
       "    }\n",
       "\n",
       "    .dataframe tbody tr th {\n",
       "        vertical-align: top;\n",
       "    }\n",
       "\n",
       "    .dataframe thead th {\n",
       "        text-align: right;\n",
       "    }\n",
       "</style>\n",
       "<table border=\"1\" class=\"dataframe\">\n",
       "  <thead>\n",
       "    <tr style=\"text-align: right;\">\n",
       "      <th></th>\n",
       "      <th>True Value</th>\n",
       "      <th>Prediction</th>\n",
       "      <th>error_rate</th>\n",
       "    </tr>\n",
       "  </thead>\n",
       "  <tbody>\n",
       "    <tr>\n",
       "      <th>0</th>\n",
       "      <td>27.0300</td>\n",
       "      <td>26.865779</td>\n",
       "      <td>-0.607550</td>\n",
       "    </tr>\n",
       "    <tr>\n",
       "      <th>1</th>\n",
       "      <td>35.0250</td>\n",
       "      <td>34.200254</td>\n",
       "      <td>-2.354736</td>\n",
       "    </tr>\n",
       "    <tr>\n",
       "      <th>2</th>\n",
       "      <td>38.0800</td>\n",
       "      <td>38.709232</td>\n",
       "      <td>1.652396</td>\n",
       "    </tr>\n",
       "    <tr>\n",
       "      <th>3</th>\n",
       "      <td>37.5599</td>\n",
       "      <td>38.039777</td>\n",
       "      <td>1.277631</td>\n",
       "    </tr>\n",
       "    <tr>\n",
       "      <th>4</th>\n",
       "      <td>36.7400</td>\n",
       "      <td>37.970863</td>\n",
       "      <td>3.350197</td>\n",
       "    </tr>\n",
       "    <tr>\n",
       "      <th>...</th>\n",
       "      <td>...</td>\n",
       "      <td>...</td>\n",
       "      <td>...</td>\n",
       "    </tr>\n",
       "    <tr>\n",
       "      <th>497456</th>\n",
       "      <td>85.8700</td>\n",
       "      <td>85.122492</td>\n",
       "      <td>-0.870512</td>\n",
       "    </tr>\n",
       "    <tr>\n",
       "      <th>497457</th>\n",
       "      <td>84.9800</td>\n",
       "      <td>85.853103</td>\n",
       "      <td>1.027422</td>\n",
       "    </tr>\n",
       "    <tr>\n",
       "      <th>497458</th>\n",
       "      <td>84.7300</td>\n",
       "      <td>84.756956</td>\n",
       "      <td>0.031814</td>\n",
       "    </tr>\n",
       "    <tr>\n",
       "      <th>497459</th>\n",
       "      <td>84.4000</td>\n",
       "      <td>84.005322</td>\n",
       "      <td>-0.467628</td>\n",
       "    </tr>\n",
       "    <tr>\n",
       "      <th>497460</th>\n",
       "      <td>84.7900</td>\n",
       "      <td>84.505834</td>\n",
       "      <td>-0.335140</td>\n",
       "    </tr>\n",
       "  </tbody>\n",
       "</table>\n",
       "<p>497461 rows × 3 columns</p>\n",
       "</div>"
      ],
      "text/plain": [
       "        True Value  Prediction  error_rate\n",
       "0          27.0300   26.865779   -0.607550\n",
       "1          35.0250   34.200254   -2.354736\n",
       "2          38.0800   38.709232    1.652396\n",
       "3          37.5599   38.039777    1.277631\n",
       "4          36.7400   37.970863    3.350197\n",
       "...            ...         ...         ...\n",
       "497456     85.8700   85.122492   -0.870512\n",
       "497457     84.9800   85.853103    1.027422\n",
       "497458     84.7300   84.756956    0.031814\n",
       "497459     84.4000   84.005322   -0.467628\n",
       "497460     84.7900   84.505834   -0.335140\n",
       "\n",
       "[497461 rows x 3 columns]"
      ]
     },
     "execution_count": 29,
     "metadata": {},
     "output_type": "execute_result"
    }
   ],
   "source": [
    "Prediction_Close"
   ]
  },
  {
   "cell_type": "code",
   "execution_count": 30,
   "id": "be0f21c9",
   "metadata": {},
   "outputs": [
    {
     "data": {
      "text/plain": [
       "0.01812111726559941"
      ]
     },
     "execution_count": 30,
     "metadata": {},
     "output_type": "execute_result"
    }
   ],
   "source": [
    "Prediction_Close['error_rate'].mean()"
   ]
  },
  {
   "cell_type": "code",
   "execution_count": 31,
   "id": "98a4d4c9",
   "metadata": {},
   "outputs": [
    {
     "data": {
      "text/plain": [
       "2.5665967905446254"
      ]
     },
     "execution_count": 31,
     "metadata": {},
     "output_type": "execute_result"
    }
   ],
   "source": [
    "mse_final_close = mean_squared_error(y_true=Prediction_Close['True Value'], y_pred=Prediction_Close['Prediction'])\n",
    "mse_final_close"
   ]
  },
  {
   "cell_type": "code",
   "execution_count": 32,
   "id": "2ead79ce",
   "metadata": {},
   "outputs": [
    {
     "data": {
      "text/plain": [
       "0.9997507298814866"
      ]
     },
     "execution_count": 32,
     "metadata": {},
     "output_type": "execute_result"
    }
   ],
   "source": [
    "r2_score_final_close = r2_score(y_true=Prediction_Close['True Value'], y_pred=Prediction_Close['Prediction'])\n",
    "r2_score_final_close"
   ]
  },
  {
   "cell_type": "markdown",
   "id": "30a4c9cc",
   "metadata": {},
   "source": [
    "I manually changed the value of k to select the one resulting in least average error rate for 'close'\n",
    "1. k = 3 --> mse = 2.5666652594036323 | r2_score = 0.9997507232317313\n",
    "2. k = 5 --> mse = 2.5673135121076682 | r2_score = 0.9997506602728634\n",
    "3. k = 10 --> mse = 2.5665967905446254 | r2_score = 0.9997507298814866"
   ]
  },
  {
   "cell_type": "code",
   "execution_count": 33,
   "id": "e197cf49",
   "metadata": {},
   "outputs": [],
   "source": [
    "#Prediction_Accuracy_Volume"
   ]
  },
  {
   "cell_type": "code",
   "execution_count": 34,
   "id": "ed07411b",
   "metadata": {},
   "outputs": [],
   "source": [
    "#Prediction_Volume"
   ]
  },
  {
   "cell_type": "code",
   "execution_count": 35,
   "id": "3f40645d",
   "metadata": {},
   "outputs": [],
   "source": [
    "#mse_final_volume = mean_squared_error(y_true=Prediction_Volume['True Value'], y_pred=Prediction_Volume['Prediction'])\n",
    "#mse_final_volume"
   ]
  },
  {
   "cell_type": "code",
   "execution_count": 36,
   "id": "1e052974",
   "metadata": {},
   "outputs": [],
   "source": [
    "#r2_score_final_volume = r2_score(y_true=Prediction_Volume['True Value'], y_pred=Prediction_Volume['Prediction'])\n",
    "#r2_score_final_volume"
   ]
  },
  {
   "cell_type": "markdown",
   "id": "6461ef62",
   "metadata": {},
   "source": [
    "I manually changed the value of k to select the one resulting in least average error rate for 'volume'\n",
    "1. k = 3 --> mse = 19806453081962.906 | r2_score = 0.7077364425474144\n",
    "2. k = 5 --> mse = 19787625639695.22 | r2_score = 0.7080142598442378\n",
    "3. k = 10 --> mse = 19764538557773.848 | r2_score = 0.7083549322839531\n"
   ]
  }
 ],
 "metadata": {
  "kernelspec": {
   "display_name": "Python 3 (ipykernel)",
   "language": "python",
   "name": "python3"
  },
  "language_info": {
   "codemirror_mode": {
    "name": "ipython",
    "version": 3
   },
   "file_extension": ".py",
   "mimetype": "text/x-python",
   "name": "python",
   "nbconvert_exporter": "python",
   "pygments_lexer": "ipython3",
   "version": "3.10.9"
  }
 },
 "nbformat": 4,
 "nbformat_minor": 5
}
